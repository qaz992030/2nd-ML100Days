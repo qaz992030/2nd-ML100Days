{
 "cells": [
  {
   "cell_type": "markdown",
   "metadata": {},
   "source": [
    "## Work\n",
    "1. 請嘗試寫一個 callback 用來記錄各類別在訓練過程中，對驗證集的 True Positive 與 True Negative"
   ]
  },
  {
   "cell_type": "code",
   "execution_count": 9,
   "metadata": {},
   "outputs": [],
   "source": [
    "import os\n",
    "import keras\n",
    "import numpy as np\n",
    "\n",
    "# Disable GPU\n",
    "os.environ[\"CUDA_VISIBLE_DEVICES\"] = \"\""
   ]
  },
  {
   "cell_type": "code",
   "execution_count": 2,
   "metadata": {},
   "outputs": [],
   "source": [
    "train, test = keras.datasets.cifar10.load_data()"
   ]
  },
  {
   "cell_type": "code",
   "execution_count": 3,
   "metadata": {},
   "outputs": [],
   "source": [
    "## 資料前處理\n",
    "def preproc_x(x, flatten=True):\n",
    "    x = x / 255.\n",
    "    if flatten:\n",
    "        x = x.reshape((len(x), -1))\n",
    "    return x\n",
    "\n",
    "def preproc_y(y, num_classes=10):\n",
    "    if y.shape[-1] == 1:\n",
    "        y = keras.utils.to_categorical(y, num_classes)\n",
    "    return y    "
   ]
  },
  {
   "cell_type": "code",
   "execution_count": 4,
   "metadata": {},
   "outputs": [],
   "source": [
    "x_train, y_train = train\n",
    "x_test, y_test = test\n",
    "\n",
    "# Preproc the inputs\n",
    "x_train = preproc_x(x_train)\n",
    "x_test = preproc_x(x_test)\n",
    "\n",
    "# Preprc the outputs\n",
    "y_train = preproc_y(y_train)\n",
    "y_test = preproc_y(y_test)"
   ]
  },
  {
   "cell_type": "code",
   "execution_count": 5,
   "metadata": {},
   "outputs": [],
   "source": [
    "from keras.layers import BatchNormalization\n",
    "def build_mlp(input_shape, output_units=10, num_neurons=[256, 256, 256]):\n",
    "    \"\"\"Code Here\n",
    "    建立你的神經網路\n",
    "    \"\"\"\n",
    "    input_layer = keras.layers.Input(input_shape)\n",
    "    \n",
    "    for i, n_units in enumerate(num_neurons):\n",
    "        if i == 0:\n",
    "            x = keras.layers.Dense(units=n_units, \n",
    "                                   activation=\"relu\", \n",
    "                                   name=\"hidden_layer\"+str(i+1))(input_layer)\n",
    "            x = BatchNormalization()(x)\n",
    "        else:\n",
    "            x = keras.layers.Dense(units=n_units, \n",
    "                                   activation=\"relu\", \n",
    "                                   name=\"hidden_layer\"+str(i+1))(x)\n",
    "            x = BatchNormalization()(x)\n",
    "    \n",
    "    out = keras.layers.Dense(units=output_units, activation=\"softmax\", name=\"output\")(x)\n",
    "    \n",
    "    model = keras.models.Model(inputs=[input_layer], outputs=[out])    \n",
    "    return model"
   ]
  },
  {
   "cell_type": "code",
   "execution_count": 6,
   "metadata": {},
   "outputs": [],
   "source": [
    "## 超參數設定\n",
    "LEARNING_RATE = 1e-3\n",
    "EPOCHS = 25\n",
    "BATCH_SIZE = 1024\n",
    "MOMENTUM = 0.95"
   ]
  },
  {
   "cell_type": "code",
   "execution_count": 11,
   "metadata": {},
   "outputs": [],
   "source": [
    "# 載入 Callbacks\n",
    "from keras.callbacks import Callback\n",
    "\n",
    "# Record_fp_tp\n",
    "class Record_tp_tn(Callback):\n",
    "    \"\"\"Code Here\n",
    "    撰寫一個紀錄 ture positive 與 true negative 數量的 callbacks    \n",
    "    \"\"\"\n",
    "    def on_train_begin(self, epoch, logs = {}):\n",
    "        logs = logs or {}\n",
    "        record_items = [\"val_tp\", \"val_tn\"]\n",
    "        for i in record_items:\n",
    "            if i not in self.params['metrics']:\n",
    "                self.params['metrics'].append(i)\n",
    "    \n",
    "    def on_epoch_end(self, epoch, logs = {}, thres=0.5):\n",
    "        logs = logs or {}\n",
    "        y_true = self.validation_data[1].argmax(axis = 1)\n",
    "        y_pred = self.model.predict(self.validation_data[0])\n",
    "        y_pred = (y_pred[:, 1] >= thres) * 1\n",
    "        \n",
    "        true_positives = np.sum(np.logical_and(y_pred == 1, y_true == 1))\n",
    "        true_negatives = np.sum(np.logical_and(y_pred == 0, y_true == 0))\n",
    "        logs[\"valid_tp\"] = true_positives\n",
    "        logs[\"valid_tn\"] = true_negatives\n",
    "        \n",
    "rec_tptn = Record_tp_tn()"
   ]
  },
  {
   "cell_type": "code",
   "execution_count": 12,
   "metadata": {
    "scrolled": true
   },
   "outputs": [
    {
     "name": "stdout",
     "output_type": "stream",
     "text": [
      "_________________________________________________________________\n",
      "Layer (type)                 Output Shape              Param #   \n",
      "=================================================================\n",
      "input_3 (InputLayer)         (None, 3072)              0         \n",
      "_________________________________________________________________\n",
      "hidden_layer1 (Dense)        (None, 256)               786688    \n",
      "_________________________________________________________________\n",
      "batch_normalization_7 (Batch (None, 256)               1024      \n",
      "_________________________________________________________________\n",
      "hidden_layer2 (Dense)        (None, 256)               65792     \n",
      "_________________________________________________________________\n",
      "batch_normalization_8 (Batch (None, 256)               1024      \n",
      "_________________________________________________________________\n",
      "hidden_layer3 (Dense)        (None, 256)               65792     \n",
      "_________________________________________________________________\n",
      "batch_normalization_9 (Batch (None, 256)               1024      \n",
      "_________________________________________________________________\n",
      "output (Dense)               (None, 10)                2570      \n",
      "=================================================================\n",
      "Total params: 923,914\n",
      "Trainable params: 922,378\n",
      "Non-trainable params: 1,536\n",
      "_________________________________________________________________\n",
      "Train on 50000 samples, validate on 10000 samples\n",
      "Epoch 1/25\n",
      "50000/50000 [==============================] - 7s 135us/step - loss: 2.2503 - acc: 0.2630 - val_loss: 2.2509 - val_acc: 0.2874\n",
      "Epoch 2/25\n",
      "50000/50000 [==============================] - 6s 128us/step - loss: 1.7764 - acc: 0.3824 - val_loss: 1.8899 - val_acc: 0.3521\n",
      "Epoch 3/25\n",
      "50000/50000 [==============================] - 6s 123us/step - loss: 1.6491 - acc: 0.4227 - val_loss: 1.7262 - val_acc: 0.3991\n",
      "Epoch 4/25\n",
      "50000/50000 [==============================] - 6s 111us/step - loss: 1.5737 - acc: 0.4482 - val_loss: 1.6660 - val_acc: 0.4137\n",
      "Epoch 5/25\n",
      "50000/50000 [==============================] - 5s 110us/step - loss: 1.5183 - acc: 0.4689 - val_loss: 1.6203 - val_acc: 0.4302\n",
      "Epoch 6/25\n",
      "50000/50000 [==============================] - 6s 125us/step - loss: 1.4740 - acc: 0.4848 - val_loss: 1.5806 - val_acc: 0.4450\n",
      "Epoch 7/25\n",
      "50000/50000 [==============================] - 6s 128us/step - loss: 1.4340 - acc: 0.4979 - val_loss: 1.5480 - val_acc: 0.4558\n",
      "Epoch 8/25\n",
      "50000/50000 [==============================] - 6s 128us/step - loss: 1.4016 - acc: 0.5093 - val_loss: 1.5298 - val_acc: 0.4601\n",
      "Epoch 9/25\n",
      "50000/50000 [==============================] - 6s 117us/step - loss: 1.3705 - acc: 0.5209 - val_loss: 1.5192 - val_acc: 0.4660\n",
      "Epoch 10/25\n",
      "50000/50000 [==============================] - 6s 114us/step - loss: 1.3434 - acc: 0.5312 - val_loss: 1.5075 - val_acc: 0.4682\n",
      "Epoch 11/25\n",
      "50000/50000 [==============================] - 6s 112us/step - loss: 1.3174 - acc: 0.5384 - val_loss: 1.5037 - val_acc: 0.4667\n",
      "Epoch 12/25\n",
      "50000/50000 [==============================] - 6s 111us/step - loss: 1.2923 - acc: 0.5498 - val_loss: 1.4899 - val_acc: 0.4742\n",
      "Epoch 13/25\n",
      "50000/50000 [==============================] - 5s 109us/step - loss: 1.2672 - acc: 0.5593 - val_loss: 1.4771 - val_acc: 0.4746\n",
      "Epoch 14/25\n",
      "50000/50000 [==============================] - 5s 109us/step - loss: 1.2468 - acc: 0.5665 - val_loss: 1.4713 - val_acc: 0.4756\n",
      "Epoch 15/25\n",
      "50000/50000 [==============================] - 6s 119us/step - loss: 1.2246 - acc: 0.5747 - val_loss: 1.4609 - val_acc: 0.4868\n",
      "Epoch 16/25\n",
      "50000/50000 [==============================] - 5s 110us/step - loss: 1.2044 - acc: 0.5816 - val_loss: 1.4694 - val_acc: 0.4855\n",
      "Epoch 17/25\n",
      "50000/50000 [==============================] - 5s 109us/step - loss: 1.1846 - acc: 0.5894 - val_loss: 1.4551 - val_acc: 0.4846\n",
      "Epoch 18/25\n",
      "50000/50000 [==============================] - 5s 109us/step - loss: 1.1644 - acc: 0.5968 - val_loss: 1.4508 - val_acc: 0.4878\n",
      "Epoch 19/25\n",
      "50000/50000 [==============================] - 5s 110us/step - loss: 1.1454 - acc: 0.6045 - val_loss: 1.4420 - val_acc: 0.4914\n",
      "Epoch 20/25\n",
      "50000/50000 [==============================] - 6s 110us/step - loss: 1.1267 - acc: 0.6121 - val_loss: 1.4404 - val_acc: 0.4964\n",
      "Epoch 21/25\n",
      "50000/50000 [==============================] - 5s 109us/step - loss: 1.1104 - acc: 0.6159 - val_loss: 1.4532 - val_acc: 0.4930\n",
      "Epoch 22/25\n",
      "50000/50000 [==============================] - 6s 110us/step - loss: 1.0929 - acc: 0.6238 - val_loss: 1.4452 - val_acc: 0.4888\n",
      "Epoch 23/25\n",
      "50000/50000 [==============================] - 5s 109us/step - loss: 1.0740 - acc: 0.6340 - val_loss: 1.4517 - val_acc: 0.4934\n",
      "Epoch 24/25\n",
      "50000/50000 [==============================] - 5s 109us/step - loss: 1.0587 - acc: 0.6394 - val_loss: 1.4514 - val_acc: 0.4899\n",
      "Epoch 25/25\n",
      "50000/50000 [==============================] - 6s 119us/step - loss: 1.0406 - acc: 0.6452 - val_loss: 1.4496 - val_acc: 0.4983\n"
     ]
    }
   ],
   "source": [
    "model = build_mlp(input_shape=x_train.shape[1:])\n",
    "model.summary()\n",
    "optimizer = keras.optimizers.SGD(lr=LEARNING_RATE, nesterov=True, momentum=MOMENTUM)\n",
    "model.compile(loss=\"categorical_crossentropy\", metrics=[\"accuracy\"], optimizer=optimizer)\n",
    "\n",
    "\"\"\"Code Here\n",
    "將 callbacks 放入模型訓練流程中\n",
    "\"\"\"\n",
    "model.fit(x_train, y_train, \n",
    "          epochs=EPOCHS, \n",
    "          batch_size=BATCH_SIZE, \n",
    "          validation_data=(x_test, y_test), \n",
    "          shuffle=True,\n",
    "          callbacks=[rec_tptn]\n",
    "         )\n",
    "\n",
    "# Collect results\n",
    "train_loss = model.history.history[\"loss\"]\n",
    "valid_loss = model.history.history[\"val_loss\"]\n",
    "train_acc = model.history.history[\"acc\"]\n",
    "valid_acc = model.history.history[\"val_acc\"]\n",
    "\n",
    "\"\"\"Code Here\n",
    "將 tp/tn 從訓練完的模型中取出\n",
    "\"\"\"\n",
    "valid_tp = model.history.history['valid_tp']\n",
    "valid_tn = model.history.history['valid_tn']"
   ]
  },
  {
   "cell_type": "code",
   "execution_count": 14,
   "metadata": {},
   "outputs": [
    {
     "data": {
      "image/png": "[encoded data removed]",
      "text/plain": [
       "<Figure size 432x288 with 1 Axes>"
      ]
     },
     "metadata": {
      "needs_background": "light"
     },
     "output_type": "display_data"
    },
    {
     "data": {
      "image/png": "[encoded data removed]",
      "text/plain": [
       "<Figure size 432x288 with 1 Axes>"
      ]
     },
     "metadata": {
      "needs_background": "light"
     },
     "output_type": "display_data"
    },
    {
     "data": {
      "image/png": "[encoded data removed]",
      "text/plain": [
       "<Figure size 432x288 with 1 Axes>"
      ]
     },
     "metadata": {
      "needs_background": "light"
     },
     "output_type": "display_data"
    }
   ],
   "source": [
    "import matplotlib.pyplot as plt\n",
    "%matplotlib inline\n",
    "\n",
    "plt.plot(range(len(train_loss)), train_loss, label=\"train loss\")\n",
    "plt.plot(range(len(valid_loss)), valid_loss, label=\"valid loss\")\n",
    "plt.legend()\n",
    "plt.title(\"Loss\")\n",
    "plt.show()\n",
    "\n",
    "plt.plot(range(len(train_acc)), train_acc, label=\"train accuracy\")\n",
    "plt.plot(range(len(valid_acc)), valid_acc, label=\"valid accuracy\")\n",
    "plt.legend()\n",
    "plt.title(\"Accuracy\")\n",
    "plt.show()\n",
    "\n",
    "plt.plot(range(len(valid_tp)), valid_tp, label=\"valid tp\", color=\"navy\")\n",
    "plt.plot(range(len(valid_tn)), valid_tn, label=\"valid tn\", color=\"red\")\n",
    "plt.legend()\n",
    "plt.title(\"True positives and True Negatives\")\n",
    "plt.show()\n"
   ]
  },
  {
   "cell_type": "code",
   "execution_count": null,
   "metadata": {},
   "outputs": [],
   "source": []
  }
 ],
 "metadata": {
  "kernelspec": {
   "display_name": "Python 3",
   "language": "python",
   "name": "python3"
  },
  "language_info": {
   "codemirror_mode": {
    "name": "ipython",
    "version": 3
   },
   "file_extension": ".py",
   "mimetype": "text/x-python",
   "name": "python",
   "nbconvert_exporter": "python",
   "pygments_lexer": "ipython3",
   "version": "3.7.3"
  }
 },
 "nbformat": 4,
 "nbformat_minor": 2
}
