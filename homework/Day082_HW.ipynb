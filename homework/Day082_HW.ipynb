{
 "cells": [
  {
   "cell_type": "markdown",
   "metadata": {},
   "source": [
    "## Work\n",
    "1. 請比較使用不同層數以及不同 Dropout rate 對訓練的效果\n",
    "2. 將 optimizer 改成使用 Adam 並加上適當的 dropout rate 檢視結果"
   ]
  },
  {
   "cell_type": "code",
   "execution_count": 28,
   "metadata": {},
   "outputs": [],
   "source": [
    "import os\n",
    "import keras\n",
    "import itertools\n",
    "from keras.layers import Dropout\n",
    "\n",
    "# Disable GPU\n",
    "os.environ[\"CUDA_VISIBLE_DEVICES\"] = \"\""
   ]
  },
  {
   "cell_type": "code",
   "execution_count": 29,
   "metadata": {},
   "outputs": [],
   "source": [
    "train, test = keras.datasets.cifar10.load_data()"
   ]
  },
  {
   "cell_type": "code",
   "execution_count": 30,
   "metadata": {},
   "outputs": [],
   "source": [
    "## 資料前處理\n",
    "def preproc_x(x, flatten=True):\n",
    "    x = x / 255.\n",
    "    if flatten:\n",
    "        x = x.reshape((len(x), -1))\n",
    "    return x\n",
    "\n",
    "def preproc_y(y, num_classes=10):\n",
    "    if y.shape[-1] == 1:\n",
    "        y = keras.utils.to_categorical(y, num_classes)\n",
    "    return y    "
   ]
  },
  {
   "cell_type": "code",
   "execution_count": 31,
   "metadata": {},
   "outputs": [],
   "source": [
    "x_train, y_train = train\n",
    "x_test, y_test = test\n",
    "\n",
    "# Preproc the inputs\n",
    "x_train = preproc_x(x_train)\n",
    "x_test = preproc_x(x_test)\n",
    "\n",
    "# Preprc the outputs\n",
    "y_train = preproc_y(y_train)\n",
    "y_test = preproc_y(y_test)"
   ]
  },
  {
   "cell_type": "code",
   "execution_count": 32,
   "metadata": {},
   "outputs": [],
   "source": [
    "\n",
    "def build_mlp(input_shape, output_units=10, num_neurons=[512, 256, 128], drp_ratio=0.2):\n",
    "    \"\"\"Code Here\n",
    "    建立你的神經網路\n",
    "    \"\"\"\n",
    "    input_layer = keras.layers.Input(input_shape)\n",
    "    for i, n_units in enumerate(num_neurons):\n",
    "        if i == 0:\n",
    "            x = keras.layers.Dense(units=n_units, \n",
    "                                   activation=\"relu\", \n",
    "                                   name=\"hidden_layer\"+str(i+1))(input_layer)\n",
    "            x = Dropout(drp_ratio)(x)\n",
    "        else:\n",
    "            x = keras.layers.Dense(units=n_units, \n",
    "                                   activation=\"relu\", \n",
    "                                   name=\"hidden_layer\"+str(i+1))(x)\n",
    "            x = Dropout(drp_ratio)(x)\n",
    "    \n",
    "    out = keras.layers.Dense(units=output_units, activation=\"softmax\", name=\"output\")(x)\n",
    "    \n",
    "    model = keras.models.Model(inputs=[input_layer], outputs=[out])\n",
    "    return model\n"
   ]
  },
  {
   "cell_type": "code",
   "execution_count": 33,
   "metadata": {},
   "outputs": [],
   "source": [
    "\"\"\"Code Here\n",
    "設定超參數\n",
    "\"\"\"\n",
    "LEARNING_RATE = 1e-3\n",
    "EPOCHS = 50\n",
    "BATCH_SIZE = 256\n",
    "Dropout_EXP = 0.25"
   ]
  },
  {
   "cell_type": "code",
   "execution_count": 35,
   "metadata": {
    "scrolled": true
   },
   "outputs": [
    {
     "name": "stdout",
     "output_type": "stream",
     "text": [
      "_________________________________________________________________\n",
      "Layer (type)                 Output Shape              Param #   \n",
      "=================================================================\n",
      "input_6 (InputLayer)         (None, 3072)              0         \n",
      "_________________________________________________________________\n",
      "hidden_layer1 (Dense)        (None, 512)               1573376   \n",
      "_________________________________________________________________\n",
      "dropout_10 (Dropout)         (None, 512)               0         \n",
      "_________________________________________________________________\n",
      "hidden_layer2 (Dense)        (None, 256)               131328    \n",
      "_________________________________________________________________\n",
      "dropout_11 (Dropout)         (None, 256)               0         \n",
      "_________________________________________________________________\n",
      "hidden_layer3 (Dense)        (None, 128)               32896     \n",
      "_________________________________________________________________\n",
      "dropout_12 (Dropout)         (None, 128)               0         \n",
      "_________________________________________________________________\n",
      "output (Dense)               (None, 10)                1290      \n",
      "=================================================================\n",
      "Total params: 1,738,890\n",
      "Trainable params: 1,738,890\n",
      "Non-trainable params: 0\n",
      "_________________________________________________________________\n",
      "Train on 50000 samples, validate on 10000 samples\n",
      "Epoch 1/50\n",
      "50000/50000 [==============================] - 18s 352us/step - loss: 2.0568 - acc: 0.2416 - val_loss: 1.8282 - val_acc: 0.3447\n",
      "Epoch 2/50\n",
      "50000/50000 [==============================] - 16s 310us/step - loss: 1.8793 - acc: 0.3201 - val_loss: 1.7405 - val_acc: 0.3777\n",
      "Epoch 3/50\n",
      "50000/50000 [==============================] - 16s 318us/step - loss: 1.8230 - acc: 0.3411 - val_loss: 1.7027 - val_acc: 0.3978\n",
      "Epoch 4/50\n",
      "50000/50000 [==============================] - 17s 337us/step - loss: 1.7791 - acc: 0.3583 - val_loss: 1.6663 - val_acc: 0.4187\n",
      "Epoch 5/50\n",
      "50000/50000 [==============================] - 16s 312us/step - loss: 1.7537 - acc: 0.3688 - val_loss: 1.6441 - val_acc: 0.4067\n",
      "Epoch 6/50\n",
      "50000/50000 [==============================] - 15s 295us/step - loss: 1.7230 - acc: 0.3779 - val_loss: 1.6223 - val_acc: 0.4281\n",
      "Epoch 7/50\n",
      "50000/50000 [==============================] - 14s 287us/step - loss: 1.6982 - acc: 0.3887 - val_loss: 1.6111 - val_acc: 0.4397\n",
      "Epoch 8/50\n",
      "50000/50000 [==============================] - 14s 274us/step - loss: 1.6737 - acc: 0.3959 - val_loss: 1.5939 - val_acc: 0.4418\n",
      "Epoch 9/50\n",
      "50000/50000 [==============================] - 14s 286us/step - loss: 1.6697 - acc: 0.4008 - val_loss: 1.5798 - val_acc: 0.4478\n",
      "Epoch 10/50\n",
      "50000/50000 [==============================] - 15s 296us/step - loss: 1.6539 - acc: 0.4052 - val_loss: 1.5665 - val_acc: 0.4513\n",
      "Epoch 11/50\n",
      "50000/50000 [==============================] - 14s 275us/step - loss: 1.6484 - acc: 0.4084 - val_loss: 1.5397 - val_acc: 0.4606\n",
      "Epoch 12/50\n",
      "50000/50000 [==============================] - 14s 287us/step - loss: 1.6269 - acc: 0.4157 - val_loss: 1.5646 - val_acc: 0.4477\n",
      "Epoch 13/50\n",
      "50000/50000 [==============================] - 14s 277us/step - loss: 1.6206 - acc: 0.4164 - val_loss: 1.5635 - val_acc: 0.4492\n",
      "Epoch 14/50\n",
      "50000/50000 [==============================] - 14s 276us/step - loss: 1.6172 - acc: 0.4166 - val_loss: 1.5504 - val_acc: 0.4573\n",
      "Epoch 15/50\n",
      "50000/50000 [==============================] - 14s 284us/step - loss: 1.6099 - acc: 0.4174 - val_loss: 1.5416 - val_acc: 0.4517\n",
      "Epoch 16/50\n",
      "50000/50000 [==============================] - 15s 298us/step - loss: 1.5949 - acc: 0.4251 - val_loss: 1.5428 - val_acc: 0.4457\n",
      "Epoch 17/50\n",
      "50000/50000 [==============================] - 14s 286us/step - loss: 1.6014 - acc: 0.4236 - val_loss: 1.5528 - val_acc: 0.4471\n",
      "Epoch 18/50\n",
      "50000/50000 [==============================] - 14s 275us/step - loss: 1.5981 - acc: 0.4254 - val_loss: 1.5263 - val_acc: 0.4540\n",
      "Epoch 19/50\n",
      "50000/50000 [==============================] - 14s 274us/step - loss: 1.5856 - acc: 0.4290 - val_loss: 1.5327 - val_acc: 0.4531\n",
      "Epoch 20/50\n",
      "50000/50000 [==============================] - 14s 275us/step - loss: 1.5742 - acc: 0.4342 - val_loss: 1.5319 - val_acc: 0.4586\n",
      "Epoch 21/50\n",
      "50000/50000 [==============================] - 17s 333us/step - loss: 1.5651 - acc: 0.4369 - val_loss: 1.5229 - val_acc: 0.4635\n",
      "Epoch 22/50\n",
      "50000/50000 [==============================] - 16s 314us/step - loss: 1.5650 - acc: 0.4377 - val_loss: 1.4911 - val_acc: 0.4723\n",
      "Epoch 23/50\n",
      "50000/50000 [==============================] - 14s 278us/step - loss: 1.5585 - acc: 0.4381 - val_loss: 1.5072 - val_acc: 0.4632\n",
      "Epoch 24/50\n",
      "50000/50000 [==============================] - 13s 263us/step - loss: 1.5554 - acc: 0.4390 - val_loss: 1.4926 - val_acc: 0.4698\n",
      "Epoch 25/50\n",
      "50000/50000 [==============================] - 14s 275us/step - loss: 1.5483 - acc: 0.4440 - val_loss: 1.4788 - val_acc: 0.4798\n",
      "Epoch 26/50\n",
      "50000/50000 [==============================] - 15s 292us/step - loss: 1.5416 - acc: 0.4457 - val_loss: 1.4860 - val_acc: 0.4711\n",
      "Epoch 27/50\n",
      "50000/50000 [==============================] - 16s 313us/step - loss: 1.5358 - acc: 0.4500 - val_loss: 1.4858 - val_acc: 0.4808\n",
      "Epoch 28/50\n",
      "50000/50000 [==============================] - 13s 266us/step - loss: 1.5346 - acc: 0.4488 - val_loss: 1.4828 - val_acc: 0.4757\n",
      "Epoch 29/50\n",
      "50000/50000 [==============================] - 15s 297us/step - loss: 1.5309 - acc: 0.4472 - val_loss: 1.4659 - val_acc: 0.4809\n",
      "Epoch 30/50\n",
      "50000/50000 [==============================] - 13s 268us/step - loss: 1.5312 - acc: 0.4503 - val_loss: 1.4760 - val_acc: 0.4807\n",
      "Epoch 31/50\n",
      "50000/50000 [==============================] - 13s 269us/step - loss: 1.5202 - acc: 0.4542 - val_loss: 1.4626 - val_acc: 0.4827\n",
      "Epoch 32/50\n",
      "50000/50000 [==============================] - 13s 266us/step - loss: 1.5169 - acc: 0.4546 - val_loss: 1.4700 - val_acc: 0.4819\n",
      "Epoch 33/50\n",
      "50000/50000 [==============================] - 13s 269us/step - loss: 1.5165 - acc: 0.4526 - val_loss: 1.4622 - val_acc: 0.4805\n",
      "Epoch 34/50\n",
      "50000/50000 [==============================] - 14s 280us/step - loss: 1.5071 - acc: 0.4570 - val_loss: 1.4437 - val_acc: 0.4861\n",
      "Epoch 35/50\n",
      "50000/50000 [==============================] - 13s 267us/step - loss: 1.5068 - acc: 0.4605 - val_loss: 1.4572 - val_acc: 0.4846\n",
      "Epoch 36/50\n",
      "50000/50000 [==============================] - 13s 262us/step - loss: 1.5054 - acc: 0.4574 - val_loss: 1.4525 - val_acc: 0.4831\n",
      "Epoch 37/50\n",
      "50000/50000 [==============================] - 13s 268us/step - loss: 1.5044 - acc: 0.4579 - val_loss: 1.4860 - val_acc: 0.4725\n",
      "Epoch 38/50\n",
      "50000/50000 [==============================] - 15s 299us/step - loss: 1.5023 - acc: 0.4592 - val_loss: 1.4608 - val_acc: 0.4753\n",
      "Epoch 39/50\n",
      "50000/50000 [==============================] - 14s 286us/step - loss: 1.4989 - acc: 0.4600 - val_loss: 1.4661 - val_acc: 0.4767\n",
      "Epoch 40/50\n",
      "50000/50000 [==============================] - 14s 289us/step - loss: 1.4916 - acc: 0.4626 - val_loss: 1.4310 - val_acc: 0.4884\n",
      "Epoch 41/50\n",
      "50000/50000 [==============================] - 13s 268us/step - loss: 1.4935 - acc: 0.4655 - val_loss: 1.4510 - val_acc: 0.4841\n",
      "Epoch 42/50\n",
      "50000/50000 [==============================] - 14s 286us/step - loss: 1.4867 - acc: 0.4638 - val_loss: 1.4306 - val_acc: 0.4902\n",
      "Epoch 43/50\n",
      "50000/50000 [==============================] - 13s 263us/step - loss: 1.4768 - acc: 0.4686 - val_loss: 1.4503 - val_acc: 0.4875\n",
      "Epoch 44/50\n",
      "50000/50000 [==============================] - 13s 262us/step - loss: 1.4795 - acc: 0.4661 - val_loss: 1.4505 - val_acc: 0.4793\n",
      "Epoch 45/50\n",
      "50000/50000 [==============================] - 13s 261us/step - loss: 1.4805 - acc: 0.4654 - val_loss: 1.4259 - val_acc: 0.4933\n",
      "Epoch 46/50\n",
      "50000/50000 [==============================] - 13s 263us/step - loss: 1.4753 - acc: 0.4720 - val_loss: 1.4144 - val_acc: 0.4938\n",
      "Epoch 47/50\n",
      "50000/50000 [==============================] - 16s 319us/step - loss: 1.4748 - acc: 0.4689 - val_loss: 1.4594 - val_acc: 0.4812\n",
      "Epoch 48/50\n",
      "50000/50000 [==============================] - 16s 311us/step - loss: 1.4800 - acc: 0.4684 - val_loss: 1.4334 - val_acc: 0.4876\n",
      "Epoch 49/50\n"
     ]
    },
    {
     "name": "stdout",
     "output_type": "stream",
     "text": [
      "50000/50000 [==============================] - 16s 311us/step - loss: 1.4695 - acc: 0.4733 - val_loss: 1.4403 - val_acc: 0.4865\n",
      "Epoch 50/50\n",
      "50000/50000 [==============================] - 16s 327us/step - loss: 1.4638 - acc: 0.4749 - val_loss: 1.4339 - val_acc: 0.4911\n"
     ]
    }
   ],
   "source": [
    "results = {}\n",
    "\"\"\"Code Here\n",
    "撰寫你的訓練流程並將結果用 dictionary 紀錄\n",
    "\"\"\"\n",
    "model = build_mlp(input_shape=x_train.shape[1:], drp_ratio=Dropout_EXP)\n",
    "model.summary()\n",
    "optimizer = keras.optimizers.Adam(lr=LEARNING_RATE)\n",
    "model.compile(loss=\"categorical_crossentropy\", metrics=[\"accuracy\"], optimizer=optimizer)\n",
    "\n",
    "model.fit(x_train, y_train, \n",
    "          epochs=EPOCHS, \n",
    "          batch_size=BATCH_SIZE, \n",
    "          validation_data=(x_test, y_test), \n",
    "          shuffle=True)\n",
    "\n",
    "# Collect results\n",
    "train_loss = model.history.history[\"loss\"]\n",
    "valid_loss = model.history.history[\"val_loss\"]\n",
    "train_acc = model.history.history[\"acc\"]\n",
    "valid_acc = model.history.history[\"val_acc\"]"
   ]
  },
  {
   "cell_type": "code",
   "execution_count": 37,
   "metadata": {},
   "outputs": [
    {
     "data": {
      "image/png": "[encoded data removed]",
      "text/plain": [
       "<Figure size 432x288 with 1 Axes>"
      ]
     },
     "metadata": {
      "needs_background": "light"
     },
     "output_type": "display_data"
    },
    {
     "data": {
      "image/png": "[encoded data removed]",
      "text/plain": [
       "<Figure size 432x288 with 1 Axes>"
      ]
     },
     "metadata": {
      "needs_background": "light"
     },
     "output_type": "display_data"
    }
   ],
   "source": [
    "import matplotlib.pyplot as plt\n",
    "%matplotlib inline\n",
    "\"\"\"Code Here\n",
    "將結果繪出\n",
    "\"\"\"\n",
    "import matplotlib.pyplot as plt\n",
    "%matplotlib inline\n",
    "\n",
    "plt.plot(range(len(train_loss)), train_loss, label=\"train loss\")\n",
    "plt.plot(range(len(valid_loss)), valid_loss, label=\"valid loss\")\n",
    "plt.legend()\n",
    "plt.title(\"Loss\")\n",
    "plt.show()\n",
    "\n",
    "plt.plot(range(len(train_acc)), train_acc, label=\"train accuracy\")\n",
    "plt.plot(range(len(valid_acc)), valid_acc, label=\"valid accuracy\")\n",
    "plt.legend()\n",
    "plt.title(\"Accuracy\")\n",
    "plt.show()"
   ]
  },
  {
   "cell_type": "code",
   "execution_count": null,
   "metadata": {},
   "outputs": [],
   "source": []
  }
 ],
 "metadata": {
  "kernelspec": {
   "display_name": "Python 3",
   "language": "python",
   "name": "python3"
  },
  "language_info": {
   "codemirror_mode": {
    "name": "ipython",
    "version": 3
   },
   "file_extension": ".py",
   "mimetype": "text/x-python",
   "name": "python",
   "nbconvert_exporter": "python",
   "pygments_lexer": "ipython3",
   "version": "3.7.3"
  }
 },
 "nbformat": 4,
 "nbformat_minor": 2
}
