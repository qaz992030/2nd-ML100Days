{
 "cells": [
  {
   "cell_type": "markdown",
   "metadata": {},
   "source": [
    "## Work\n",
    "1. 請嘗試將 preproc_x 替換成以每筆資料的 min/max 進行標準化至 -1 ~ 1 間，再進行訓練\n",
    "2. 請嘗試將 mlp 疊更深 (e.g 5~10 層)，進行訓練後觀察 learning curve 的走勢\n",
    "3. (optional) 請改用 GPU 進行訓練 (如果你有 GPU 的話)，比較使用 CPU 與 GPU 的訓練速度"
   ]
  },
  {
   "cell_type": "code",
   "execution_count": 1,
   "metadata": {},
   "outputs": [],
   "source": [
    "## \n",
    "\"\"\"\n",
    "Your code here (optional)\n",
    "確認硬體資源\n",
    "\"\"\"\n"
   ]
  },
  {
   "cell_type": "code",
   "execution_count": 1,
   "metadata": {
    "ExecuteTime": {
     "end_time": "2019-07-16T17:41:38.951558Z",
     "start_time": "2019-07-16T17:41:36.800481Z"
    }
   },
   "outputs": [
    {
     "name": "stderr",
     "output_type": "stream",
     "text": [
      "Using TensorFlow backend.\n"
     ]
    }
   ],
   "source": [
    "import os\n",
    "import keras\n",
    "\n",
    "# 請嘗試設定 GPU：os.environ\n"
   ]
  },
  {
   "cell_type": "code",
   "execution_count": 4,
   "metadata": {
    "ExecuteTime": {
     "end_time": "2019-07-16T17:41:39.278581Z",
     "start_time": "2019-07-16T17:41:38.967509Z"
    }
   },
   "outputs": [],
   "source": [
    "train, test = keras.datasets.cifar10.load_data()"
   ]
  },
  {
   "cell_type": "code",
   "execution_count": 3,
   "metadata": {
    "ExecuteTime": {
     "end_time": "2019-07-16T17:41:39.312507Z",
     "start_time": "2019-07-16T17:41:39.303502Z"
    }
   },
   "outputs": [
    {
     "data": {
      "text/plain": [
       "(50000, 32, 32, 3)"
      ]
     },
     "execution_count": 3,
     "metadata": {},
     "output_type": "execute_result"
    }
   ],
   "source": [
    "train[0].shape"
   ]
  },
  {
   "cell_type": "code",
   "execution_count": 9,
   "metadata": {
    "ExecuteTime": {
     "end_time": "2019-07-16T17:41:39.346505Z",
     "start_time": "2019-07-16T17:41:39.339502Z"
    }
   },
   "outputs": [],
   "source": [
    "## 資料前處理\n",
    "\"\"\"\n",
    "Your code here\n",
    "\"\"\"\n",
    "def preproc_x(x, flatten=True):\n",
    "    x = 2*((x - x.min()) / (x.max() - x.min()))-1\n",
    "    \n",
    "    if flatten:\n",
    "        x = x.reshape((len(x), -1))\n",
    "    \n",
    "    return x\n",
    "\n",
    "def preproc_y(y, num_classes=10):\n",
    "    if y.shape[-1] == 1:\n",
    "        y = keras.utils.to_categorical(y, num_classes)\n",
    "    return y    "
   ]
  },
  {
   "cell_type": "code",
   "execution_count": 10,
   "metadata": {
    "ExecuteTime": {
     "end_time": "2019-07-16T17:41:44.292839Z",
     "start_time": "2019-07-16T17:41:41.166843Z"
    }
   },
   "outputs": [],
   "source": [
    "x_train, y_train = train\n",
    "x_test, y_test = test\n",
    "\n",
    "# Preproc the inputs\n",
    "x_train = preproc_x(x_train)\n",
    "x_test = preproc_x(x_test)\n",
    "\n",
    "# Preprc the outputs\n",
    "y_train = preproc_y(y_train)\n",
    "y_test = preproc_y(y_test)"
   ]
  },
  {
   "cell_type": "code",
   "execution_count": 11,
   "metadata": {
    "ExecuteTime": {
     "end_time": "2019-07-16T17:41:44.450841Z",
     "start_time": "2019-07-16T17:41:44.325843Z"
    }
   },
   "outputs": [
    {
     "name": "stdout",
     "output_type": "stream",
     "text": [
      "WARNING:tensorflow:From C:\\Users\\cindy\\Anaconda3\\lib\\site-packages\\tensorflow\\python\\framework\\op_def_library.py:263: colocate_with (from tensorflow.python.framework.ops) is deprecated and will be removed in a future version.\n",
      "Instructions for updating:\n",
      "Colocations handled automatically by placer.\n",
      "_________________________________________________________________\n",
      "Layer (type)                 Output Shape              Param #   \n",
      "=================================================================\n",
      "input_1 (InputLayer)         (None, 3072)              0         \n",
      "_________________________________________________________________\n",
      "hidden_layer1 (Dense)        (None, 512)               1573376   \n",
      "_________________________________________________________________\n",
      "hidden_layer2 (Dense)        (None, 512)               262656    \n",
      "_________________________________________________________________\n",
      "hidden_layer3 (Dense)        (None, 256)               131328    \n",
      "_________________________________________________________________\n",
      "hidden_layer4 (Dense)        (None, 256)               65792     \n",
      "_________________________________________________________________\n",
      "hidden_layer5 (Dense)        (None, 128)               32896     \n",
      "_________________________________________________________________\n",
      "hidden_layer6 (Dense)        (None, 128)               16512     \n",
      "_________________________________________________________________\n",
      "hidden_layer7 (Dense)        (None, 64)                8256      \n",
      "_________________________________________________________________\n",
      "hidden_layer8 (Dense)        (None, 64)                4160      \n",
      "_________________________________________________________________\n",
      "output (Dense)               (None, 10)                650       \n",
      "=================================================================\n",
      "Total params: 2,095,626\n",
      "Trainable params: 2,095,626\n",
      "Non-trainable params: 0\n",
      "_________________________________________________________________\n"
     ]
    }
   ],
   "source": [
    "\"\"\"Code Here\n",
    "建立你的神經網路\n",
    "\"\"\"\n",
    "def build_mlp(input_shape, output_units=10, num_neurons=[512, 512, 256, 256, 128, 128, 64, 64]):\n",
    "    input_layer = keras.layers.Input(input_shape)\n",
    "    \n",
    "    for i, n_units in enumerate(num_neurons):\n",
    "        if i == 0:\n",
    "            x = keras.layers.Dense(units=n_units, activation=\"relu\", name=\"hidden_layer\"+str(i+1))(input_layer)\n",
    "        else:\n",
    "            x = keras.layers.Dense(units=n_units, activation=\"relu\", name=\"hidden_layer\"+str(i+1))(x)\n",
    "    \n",
    "    out = keras.layers.Dense(units=output_units, activation=\"softmax\", name=\"output\")(x)\n",
    "    \n",
    "    model = keras.models.Model(inputs=[input_layer], outputs=[out])\n",
    "    \n",
    "    return model\n",
    "\n",
    "\n",
    "model = build_mlp(input_shape=x_train.shape[1:])\n",
    "model.summary()"
   ]
  },
  {
   "cell_type": "code",
   "execution_count": 12,
   "metadata": {
    "ExecuteTime": {
     "end_time": "2019-07-16T17:41:45.161842Z",
     "start_time": "2019-07-16T17:41:45.158859Z"
    }
   },
   "outputs": [],
   "source": [
    "## 超參數設定\n",
    "LEARNING_RATE = 0.001\n",
    "EPOCHS = 100\n",
    "BATCH_SIZE = 256"
   ]
  },
  {
   "cell_type": "code",
   "execution_count": 13,
   "metadata": {
    "ExecuteTime": {
     "end_time": "2019-07-16T17:41:45.582999Z",
     "start_time": "2019-07-16T17:41:45.541987Z"
    }
   },
   "outputs": [],
   "source": [
    "optimizer = keras.optimizers.Adam(lr=LEARNING_RATE)\n",
    "model.compile(loss=\"categorical_crossentropy\", metrics=[\"accuracy\"], optimizer=optimizer)"
   ]
  },
  {
   "cell_type": "code",
   "execution_count": 14,
   "metadata": {
    "ExecuteTime": {
     "end_time": "2019-07-16T17:47:37.430909Z",
     "start_time": "2019-07-16T17:41:46.861860Z"
    }
   },
   "outputs": [
    {
     "name": "stdout",
     "output_type": "stream",
     "text": [
      "WARNING:tensorflow:From C:\\Users\\cindy\\Anaconda3\\lib\\site-packages\\tensorflow\\python\\ops\\math_ops.py:3066: to_int32 (from tensorflow.python.ops.math_ops) is deprecated and will be removed in a future version.\n",
      "Instructions for updating:\n",
      "Use tf.cast instead.\n",
      "Train on 50000 samples, validate on 10000 samples\n",
      "Epoch 1/100\n",
      "50000/50000 [==============================] - 18s 357us/step - loss: 1.7599 - acc: 0.3695 - val_loss: 1.5707 - val_acc: 0.4532\n",
      "Epoch 2/100\n",
      "50000/50000 [==============================] - 17s 342us/step - loss: 1.5039 - acc: 0.4690 - val_loss: 1.4665 - val_acc: 0.4795\n",
      "Epoch 3/100\n",
      "50000/50000 [==============================] - 17s 339us/step - loss: 1.3689 - acc: 0.5168 - val_loss: 1.3955 - val_acc: 0.5146\n",
      "Epoch 4/100\n",
      "50000/50000 [==============================] - 17s 347us/step - loss: 1.2743 - acc: 0.5518 - val_loss: 1.3665 - val_acc: 0.5229\n",
      "Epoch 5/100\n",
      "50000/50000 [==============================] - 15s 297us/step - loss: 1.1827 - acc: 0.5840 - val_loss: 1.3677 - val_acc: 0.5228\n",
      "Epoch 6/100\n",
      "50000/50000 [==============================] - 15s 296us/step - loss: 1.0949 - acc: 0.6129 - val_loss: 1.3623 - val_acc: 0.5335\n",
      "Epoch 7/100\n",
      "50000/50000 [==============================] - 15s 298us/step - loss: 1.0206 - acc: 0.6389 - val_loss: 1.3698 - val_acc: 0.5361\n",
      "Epoch 8/100\n",
      "50000/50000 [==============================] - 17s 344us/step - loss: 0.9384 - acc: 0.6675 - val_loss: 1.4195 - val_acc: 0.5386\n",
      "Epoch 9/100\n",
      "50000/50000 [==============================] - 17s 331us/step - loss: 0.8693 - acc: 0.6927 - val_loss: 1.4136 - val_acc: 0.5440\n",
      "Epoch 10/100\n",
      "50000/50000 [==============================] - 18s 364us/step - loss: 0.7900 - acc: 0.7187 - val_loss: 1.4581 - val_acc: 0.5504\n",
      "Epoch 11/100\n",
      "50000/50000 [==============================] - 15s 304us/step - loss: 0.7121 - acc: 0.7483 - val_loss: 1.4808 - val_acc: 0.5431\n",
      "Epoch 12/100\n",
      "50000/50000 [==============================] - 14s 286us/step - loss: 0.6493 - acc: 0.7708 - val_loss: 1.5710 - val_acc: 0.5434\n",
      "Epoch 13/100\n",
      "50000/50000 [==============================] - 14s 283us/step - loss: 0.5869 - acc: 0.7917 - val_loss: 1.6591 - val_acc: 0.5346\n",
      "Epoch 14/100\n",
      "50000/50000 [==============================] - 15s 293us/step - loss: 0.5315 - acc: 0.8127 - val_loss: 1.7179 - val_acc: 0.5404\n",
      "Epoch 15/100\n",
      "50000/50000 [==============================] - 15s 307us/step - loss: 0.4867 - acc: 0.8282 - val_loss: 1.8201 - val_acc: 0.5377\n",
      "Epoch 16/100\n",
      "50000/50000 [==============================] - 16s 326us/step - loss: 0.4413 - acc: 0.8456 - val_loss: 1.9470 - val_acc: 0.5456\n",
      "Epoch 17/100\n",
      "50000/50000 [==============================] - 21s 413us/step - loss: 0.3892 - acc: 0.8639 - val_loss: 1.8976 - val_acc: 0.5395\n",
      "Epoch 18/100\n",
      "50000/50000 [==============================] - 17s 338us/step - loss: 0.3603 - acc: 0.8741 - val_loss: 2.2534 - val_acc: 0.5349\n",
      "Epoch 19/100\n",
      "50000/50000 [==============================] - 17s 349us/step - loss: 0.3226 - acc: 0.8879 - val_loss: 2.1378 - val_acc: 0.5369\n",
      "Epoch 20/100\n",
      "50000/50000 [==============================] - 18s 369us/step - loss: 0.3075 - acc: 0.8935 - val_loss: 2.3182 - val_acc: 0.5416\n",
      "Epoch 21/100\n",
      "50000/50000 [==============================] - 19s 374us/step - loss: 0.2817 - acc: 0.9042 - val_loss: 2.3290 - val_acc: 0.5411\n",
      "Epoch 22/100\n",
      "50000/50000 [==============================] - 17s 335us/step - loss: 0.2517 - acc: 0.9133 - val_loss: 2.4556 - val_acc: 0.5362\n",
      "Epoch 23/100\n",
      "50000/50000 [==============================] - 16s 314us/step - loss: 0.2393 - acc: 0.9174 - val_loss: 2.3986 - val_acc: 0.5382\n",
      "Epoch 24/100\n",
      "50000/50000 [==============================] - 16s 318us/step - loss: 0.2169 - acc: 0.9261 - val_loss: 2.5722 - val_acc: 0.5391\n",
      "Epoch 25/100\n",
      "50000/50000 [==============================] - 15s 306us/step - loss: 0.2138 - acc: 0.9266 - val_loss: 2.4833 - val_acc: 0.5307\n",
      "Epoch 26/100\n",
      "50000/50000 [==============================] - 15s 298us/step - loss: 0.1913 - acc: 0.9358 - val_loss: 2.6388 - val_acc: 0.5388\n",
      "Epoch 27/100\n",
      "50000/50000 [==============================] - 16s 317us/step - loss: 0.1829 - acc: 0.9390 - val_loss: 2.6539 - val_acc: 0.5346\n",
      "Epoch 28/100\n",
      "50000/50000 [==============================] - 16s 311us/step - loss: 0.1845 - acc: 0.9383 - val_loss: 2.5441 - val_acc: 0.5357\n",
      "Epoch 29/100\n",
      "50000/50000 [==============================] - 15s 302us/step - loss: 0.1695 - acc: 0.9426 - val_loss: 2.6623 - val_acc: 0.5417\n",
      "Epoch 30/100\n",
      "50000/50000 [==============================] - 16s 319us/step - loss: 0.1556 - acc: 0.9475 - val_loss: 2.6482 - val_acc: 0.5422\n",
      "Epoch 31/100\n",
      "50000/50000 [==============================] - 16s 319us/step - loss: 0.1522 - acc: 0.9490 - val_loss: 2.8091 - val_acc: 0.5337\n",
      "Epoch 32/100\n",
      "50000/50000 [==============================] - 16s 311us/step - loss: 0.1465 - acc: 0.9508 - val_loss: 2.7456 - val_acc: 0.5424\n",
      "Epoch 33/100\n",
      "50000/50000 [==============================] - 15s 304us/step - loss: 0.1412 - acc: 0.9526 - val_loss: 2.8474 - val_acc: 0.5390\n",
      "Epoch 34/100\n",
      "50000/50000 [==============================] - 16s 313us/step - loss: 0.1432 - acc: 0.9519 - val_loss: 2.8590 - val_acc: 0.5330\n",
      "Epoch 35/100\n",
      "50000/50000 [==============================] - 17s 338us/step - loss: 0.1297 - acc: 0.9566 - val_loss: 2.9363 - val_acc: 0.5323\n",
      "Epoch 36/100\n",
      "50000/50000 [==============================] - 17s 341us/step - loss: 0.1286 - acc: 0.9565 - val_loss: 2.8958 - val_acc: 0.5336\n",
      "Epoch 37/100\n",
      "50000/50000 [==============================] - 16s 321us/step - loss: 0.1271 - acc: 0.9585 - val_loss: 2.8498 - val_acc: 0.5407\n",
      "Epoch 38/100\n",
      "50000/50000 [==============================] - 18s 353us/step - loss: 0.1102 - acc: 0.9642 - val_loss: 2.9487 - val_acc: 0.5356\n",
      "Epoch 39/100\n",
      "50000/50000 [==============================] - 18s 370us/step - loss: 0.1106 - acc: 0.9639 - val_loss: 3.0428 - val_acc: 0.5267\n",
      "Epoch 40/100\n",
      "50000/50000 [==============================] - 16s 316us/step - loss: 0.1198 - acc: 0.9608 - val_loss: 2.9216 - val_acc: 0.5337\n",
      "Epoch 41/100\n",
      "50000/50000 [==============================] - 15s 303us/step - loss: 0.1136 - acc: 0.9622 - val_loss: 2.8688 - val_acc: 0.5372\n",
      "Epoch 42/100\n",
      "50000/50000 [==============================] - 14s 283us/step - loss: 0.1127 - acc: 0.9630 - val_loss: 2.9361 - val_acc: 0.5417\n",
      "Epoch 43/100\n",
      "50000/50000 [==============================] - 16s 317us/step - loss: 0.1075 - acc: 0.9637 - val_loss: 3.0744 - val_acc: 0.5373\n",
      "Epoch 44/100\n",
      "50000/50000 [==============================] - 15s 298us/step - loss: 0.1030 - acc: 0.9667 - val_loss: 3.0887 - val_acc: 0.5350\n",
      "Epoch 45/100\n",
      "50000/50000 [==============================] - 17s 346us/step - loss: 0.0907 - acc: 0.9699 - val_loss: 3.0997 - val_acc: 0.5401\n",
      "Epoch 46/100\n",
      "50000/50000 [==============================] - 18s 354us/step - loss: 0.0990 - acc: 0.9678 - val_loss: 2.9686 - val_acc: 0.5383\n",
      "Epoch 47/100\n",
      "50000/50000 [==============================] - 17s 338us/step - loss: 0.0914 - acc: 0.9704 - val_loss: 3.0284 - val_acc: 0.5334\n",
      "Epoch 48/100\n",
      "50000/50000 [==============================] - 16s 326us/step - loss: 0.0974 - acc: 0.9689 - val_loss: 3.0354 - val_acc: 0.5410\n",
      "Epoch 49/100\n",
      "50000/50000 [==============================] - 16s 328us/step - loss: 0.0949 - acc: 0.9686 - val_loss: 3.1539 - val_acc: 0.5417\n",
      "Epoch 50/100\n",
      "50000/50000 [==============================] - 18s 364us/step - loss: 0.0905 - acc: 0.9713 - val_loss: 2.9411 - val_acc: 0.5371\n",
      "Epoch 51/100\n",
      "50000/50000 [==============================] - 17s 334us/step - loss: 0.0810 - acc: 0.9740 - val_loss: 3.1806 - val_acc: 0.5342\n",
      "Epoch 52/100\n",
      "50000/50000 [==============================] - 16s 319us/step - loss: 0.0893 - acc: 0.9709 - val_loss: 2.9292 - val_acc: 0.5309\n",
      "Epoch 53/100\n",
      "50000/50000 [==============================] - 20s 401us/step - loss: 0.0908 - acc: 0.9716 - val_loss: 3.1641 - val_acc: 0.5443\n",
      "Epoch 54/100\n",
      "50000/50000 [==============================] - 19s 376us/step - loss: 0.0803 - acc: 0.9739 - val_loss: 3.1246 - val_acc: 0.5441\n",
      "Epoch 55/100\n",
      "50000/50000 [==============================] - 21s 419us/step - loss: 0.0843 - acc: 0.9731 - val_loss: 3.0974 - val_acc: 0.5325\n",
      "Epoch 56/100\n",
      "50000/50000 [==============================] - 15s 295us/step - loss: 0.0841 - acc: 0.9725 - val_loss: 3.1822 - val_acc: 0.5239\n"
     ]
    },
    {
     "name": "stdout",
     "output_type": "stream",
     "text": [
      "Epoch 57/100\n",
      "50000/50000 [==============================] - 17s 332us/step - loss: 0.0932 - acc: 0.9703 - val_loss: 3.0380 - val_acc: 0.5342\n",
      "Epoch 58/100\n",
      "50000/50000 [==============================] - 16s 319us/step - loss: 0.0760 - acc: 0.9755 - val_loss: 3.1280 - val_acc: 0.5372\n",
      "Epoch 59/100\n",
      "50000/50000 [==============================] - 15s 298us/step - loss: 0.0771 - acc: 0.9752 - val_loss: 2.9670 - val_acc: 0.5383\n",
      "Epoch 60/100\n",
      "50000/50000 [==============================] - 14s 288us/step - loss: 0.0719 - acc: 0.9769 - val_loss: 3.2658 - val_acc: 0.5419\n",
      "Epoch 61/100\n",
      "50000/50000 [==============================] - 15s 301us/step - loss: 0.0823 - acc: 0.9745 - val_loss: 3.0521 - val_acc: 0.5325\n",
      "Epoch 62/100\n",
      "50000/50000 [==============================] - 14s 288us/step - loss: 0.0777 - acc: 0.9755 - val_loss: 3.1159 - val_acc: 0.5369\n",
      "Epoch 63/100\n",
      "50000/50000 [==============================] - 17s 337us/step - loss: 0.0688 - acc: 0.9777 - val_loss: 3.0732 - val_acc: 0.5310\n",
      "Epoch 64/100\n",
      "50000/50000 [==============================] - 16s 312us/step - loss: 0.0700 - acc: 0.9782 - val_loss: 3.0138 - val_acc: 0.5324\n",
      "Epoch 65/100\n",
      "50000/50000 [==============================] - 15s 299us/step - loss: 0.0712 - acc: 0.9778 - val_loss: 3.0989 - val_acc: 0.5383\n",
      "Epoch 66/100\n",
      "50000/50000 [==============================] - 17s 343us/step - loss: 0.0646 - acc: 0.9796 - val_loss: 3.1989 - val_acc: 0.5357\n",
      "Epoch 67/100\n",
      "50000/50000 [==============================] - 17s 332us/step - loss: 0.0702 - acc: 0.9775 - val_loss: 3.2337 - val_acc: 0.5378\n",
      "Epoch 68/100\n",
      "50000/50000 [==============================] - 17s 341us/step - loss: 0.0679 - acc: 0.9779 - val_loss: 3.2255 - val_acc: 0.5439\n",
      "Epoch 69/100\n",
      "50000/50000 [==============================] - 15s 291us/step - loss: 0.0581 - acc: 0.9814 - val_loss: 3.4453 - val_acc: 0.5355\n",
      "Epoch 70/100\n",
      "50000/50000 [==============================] - 17s 332us/step - loss: 0.0666 - acc: 0.9785 - val_loss: 3.2060 - val_acc: 0.5277\n",
      "Epoch 71/100\n",
      "50000/50000 [==============================] - 17s 340us/step - loss: 0.0720 - acc: 0.9775 - val_loss: 3.2384 - val_acc: 0.5306\n",
      "Epoch 72/100\n",
      "50000/50000 [==============================] - 17s 335us/step - loss: 0.0722 - acc: 0.9767 - val_loss: 3.1910 - val_acc: 0.5337\n",
      "Epoch 73/100\n",
      "50000/50000 [==============================] - 15s 306us/step - loss: 0.0642 - acc: 0.9794 - val_loss: 3.1798 - val_acc: 0.5370\n",
      "Epoch 74/100\n",
      "50000/50000 [==============================] - 16s 327us/step - loss: 0.0539 - acc: 0.9832 - val_loss: 3.4030 - val_acc: 0.5377\n",
      "Epoch 75/100\n",
      "50000/50000 [==============================] - 18s 370us/step - loss: 0.0628 - acc: 0.9803 - val_loss: 3.1986 - val_acc: 0.5335\n",
      "Epoch 76/100\n",
      "50000/50000 [==============================] - 17s 331us/step - loss: 0.0601 - acc: 0.9805 - val_loss: 3.3503 - val_acc: 0.5324\n",
      "Epoch 77/100\n",
      "50000/50000 [==============================] - 15s 294us/step - loss: 0.0598 - acc: 0.9811 - val_loss: 3.2416 - val_acc: 0.5356\n",
      "Epoch 78/100\n",
      "50000/50000 [==============================] - 14s 287us/step - loss: 0.0649 - acc: 0.9800 - val_loss: 3.1091 - val_acc: 0.5368\n",
      "Epoch 79/100\n",
      "50000/50000 [==============================] - 14s 283us/step - loss: 0.0475 - acc: 0.9854 - val_loss: 3.3705 - val_acc: 0.5367\n",
      "Epoch 80/100\n",
      "50000/50000 [==============================] - 15s 293us/step - loss: 0.0641 - acc: 0.9794 - val_loss: 3.2805 - val_acc: 0.5332\n",
      "Epoch 81/100\n",
      "50000/50000 [==============================] - 14s 281us/step - loss: 0.0644 - acc: 0.9797 - val_loss: 3.3805 - val_acc: 0.5317\n",
      "Epoch 82/100\n",
      "50000/50000 [==============================] - 14s 282us/step - loss: 0.0674 - acc: 0.9784 - val_loss: 3.2064 - val_acc: 0.5411\n",
      "Epoch 83/100\n",
      "50000/50000 [==============================] - 14s 283us/step - loss: 0.0580 - acc: 0.9809 - val_loss: 3.2047 - val_acc: 0.5394\n",
      "Epoch 84/100\n",
      "50000/50000 [==============================] - 15s 294us/step - loss: 0.0529 - acc: 0.9829 - val_loss: 3.2028 - val_acc: 0.5320\n",
      "Epoch 85/100\n",
      "50000/50000 [==============================] - 14s 282us/step - loss: 0.0549 - acc: 0.9828 - val_loss: 3.3892 - val_acc: 0.5409\n",
      "Epoch 86/100\n",
      "50000/50000 [==============================] - 14s 282us/step - loss: 0.0569 - acc: 0.9823 - val_loss: 3.0713 - val_acc: 0.5287\n",
      "Epoch 87/100\n",
      "50000/50000 [==============================] - 14s 285us/step - loss: 0.0555 - acc: 0.9828 - val_loss: 3.0473 - val_acc: 0.5390\n",
      "Epoch 88/100\n",
      "50000/50000 [==============================] - 15s 298us/step - loss: 0.0533 - acc: 0.9833 - val_loss: 3.4201 - val_acc: 0.5335\n",
      "Epoch 89/100\n",
      "50000/50000 [==============================] - 14s 282us/step - loss: 0.0550 - acc: 0.9828 - val_loss: 3.2452 - val_acc: 0.5424\n",
      "Epoch 90/100\n",
      "50000/50000 [==============================] - 14s 282us/step - loss: 0.0564 - acc: 0.9823 - val_loss: 3.4667 - val_acc: 0.5355\n",
      "Epoch 91/100\n",
      "50000/50000 [==============================] - 14s 282us/step - loss: 0.0533 - acc: 0.9826 - val_loss: 3.4132 - val_acc: 0.5326\n",
      "Epoch 92/100\n",
      "50000/50000 [==============================] - 15s 307us/step - loss: 0.0562 - acc: 0.9823 - val_loss: 3.5603 - val_acc: 0.5392\n",
      "Epoch 93/100\n",
      "50000/50000 [==============================] - 14s 283us/step - loss: 0.0480 - acc: 0.9854 - val_loss: 3.3407 - val_acc: 0.5399\n",
      "Epoch 94/100\n",
      "50000/50000 [==============================] - 14s 285us/step - loss: 0.0495 - acc: 0.9856 - val_loss: 3.3112 - val_acc: 0.5406\n",
      "Epoch 95/100\n",
      "50000/50000 [==============================] - 14s 284us/step - loss: 0.0481 - acc: 0.9850 - val_loss: 3.3173 - val_acc: 0.5463\n",
      "Epoch 96/100\n",
      "50000/50000 [==============================] - 15s 297us/step - loss: 0.0447 - acc: 0.9867 - val_loss: 3.5009 - val_acc: 0.5435\n",
      "Epoch 97/100\n",
      "50000/50000 [==============================] - 14s 286us/step - loss: 0.0561 - acc: 0.9829 - val_loss: 3.2039 - val_acc: 0.5350\n",
      "Epoch 98/100\n",
      "50000/50000 [==============================] - 14s 288us/step - loss: 0.0593 - acc: 0.9814 - val_loss: 3.4774 - val_acc: 0.5345\n",
      "Epoch 99/100\n",
      "50000/50000 [==============================] - 14s 283us/step - loss: 0.0479 - acc: 0.9853 - val_loss: 3.5790 - val_acc: 0.5371\n",
      "Epoch 100/100\n",
      "50000/50000 [==============================] - 14s 283us/step - loss: 0.0447 - acc: 0.9863 - val_loss: 3.6125 - val_acc: 0.5392\n"
     ]
    },
    {
     "data": {
      "text/plain": [
       "<keras.callbacks.History at 0x1fd5138e128>"
      ]
     },
     "execution_count": 14,
     "metadata": {},
     "output_type": "execute_result"
    }
   ],
   "source": [
    "model.fit(x_train, y_train, \n",
    "          epochs=EPOCHS, \n",
    "          batch_size=BATCH_SIZE, \n",
    "          validation_data=(x_test, y_test), \n",
    "          shuffle=True)"
   ]
  },
  {
   "cell_type": "code",
   "execution_count": 15,
   "metadata": {
    "ExecuteTime": {
     "end_time": "2019-07-16T17:53:05.752051Z",
     "start_time": "2019-07-16T17:53:05.485036Z"
    }
   },
   "outputs": [
    {
     "data": {
      "image/png": "[encoded data removed]",
      "text/plain": [
       "<Figure size 432x288 with 1 Axes>"
      ]
     },
     "metadata": {
      "needs_background": "light"
     },
     "output_type": "display_data"
    },
    {
     "data": {
      "image/png": "[encoded data removed]",
      "text/plain": [
       "<Figure size 432x288 with 1 Axes>"
      ]
     },
     "metadata": {
      "needs_background": "light"
     },
     "output_type": "display_data"
    }
   ],
   "source": [
    "import matplotlib.pyplot as plt\n",
    "\n",
    "%matplotlib inline\n",
    "\n",
    "train_loss = model.history.history[\"loss\"]\n",
    "valid_loss = model.history.history[\"val_loss\"]\n",
    "\n",
    "train_acc = model.history.history[\"acc\"]\n",
    "valid_acc = model.history.history[\"val_acc\"]\n",
    "\n",
    "plt.plot(range(len(train_loss)), train_loss, label=\"train loss\")\n",
    "plt.plot(range(len(valid_loss)), valid_loss, label=\"valid loss\")\n",
    "plt.legend()\n",
    "plt.title(\"Loss\")\n",
    "plt.show()\n",
    "\n",
    "plt.plot(range(len(train_acc)), train_acc, label=\"train accuracy\")\n",
    "plt.plot(range(len(valid_acc)), valid_acc, label=\"valid accuracy\")\n",
    "plt.legend()\n",
    "plt.title(\"Accuracy\")\n",
    "plt.show()"
   ]
  },
  {
   "cell_type": "markdown",
   "metadata": {},
   "source": [
    "- 對比原本模型，在training dataset上的擬合效果更好，雖然一樣有overfit，但反而狀況友好一些？ 也可能是因為模型更複雜，若繼續訓練下去可能就會有更明顯overfit?"
   ]
  }
 ],
 "metadata": {
  "kernelspec": {
   "display_name": "Python 3",
   "language": "python",
   "name": "python3"
  },
  "language_info": {
   "codemirror_mode": {
    "name": "ipython",
    "version": 3
   },
   "file_extension": ".py",
   "mimetype": "text/x-python",
   "name": "python",
   "nbconvert_exporter": "python",
   "pygments_lexer": "ipython3",
   "version": "3.7.3"
  },
  "toc": {
   "base_numbering": 1,
   "nav_menu": {},
   "number_sections": true,
   "sideBar": true,
   "skip_h1_title": false,
   "title_cell": "Table of Contents",
   "title_sidebar": "Contents",
   "toc_cell": false,
   "toc_position": {},
   "toc_section_display": true,
   "toc_window_display": false
  },
  "varInspector": {
   "cols": {
    "lenName": 16,
    "lenType": 16,
    "lenVar": 40
   },
   "kernels_config": {
    "python": {
     "delete_cmd_postfix": "",
     "delete_cmd_prefix": "del ",
     "library": "var_list.py",
     "varRefreshCmd": "print(var_dic_list())"
    },
    "r": {
     "delete_cmd_postfix": ") ",
     "delete_cmd_prefix": "rm(",
     "library": "var_list.r",
     "varRefreshCmd": "cat(var_dic_list()) "
    }
   },
   "types_to_exclude": [
    "module",
    "function",
    "builtin_function_or_method",
    "instance",
    "_Feature"
   ],
   "window_display": false
  }
 },
 "nbformat": 4,
 "nbformat_minor": 2
}
