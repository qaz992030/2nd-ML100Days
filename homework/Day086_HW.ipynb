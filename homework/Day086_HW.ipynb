{
 "cells": [
  {
   "cell_type": "markdown",
   "metadata": {},
   "source": [
    "## Work\n",
    "1. 試比較 save_best_only 與否的差異\n",
    "2. 請僅存入將 save_weights_only 設定為 True, 並嘗試 reset ipynb 並將模型與權重重新建回並預測 x_test"
   ]
  },
  {
   "cell_type": "code",
   "execution_count": 21,
   "metadata": {},
   "outputs": [],
   "source": [
    "import os\n",
    "import keras\n",
    "\n",
    "# Disable GPU\n",
    "os.environ[\"CUDA_VISIBLE_DEVICES\"] = \"\""
   ]
  },
  {
   "cell_type": "code",
   "execution_count": 22,
   "metadata": {},
   "outputs": [],
   "source": [
    "train, test = keras.datasets.cifar10.load_data()"
   ]
  },
  {
   "cell_type": "code",
   "execution_count": 23,
   "metadata": {},
   "outputs": [],
   "source": [
    "## 資料前處理\n",
    "def preproc_x(x, flatten=True):\n",
    "    x = x / 255.\n",
    "    if flatten:\n",
    "        x = x.reshape((len(x), -1))\n",
    "    return x\n",
    "\n",
    "def preproc_y(y, num_classes=10):\n",
    "    if y.shape[-1] == 1:\n",
    "        y = keras.utils.to_categorical(y, num_classes)\n",
    "    return y    "
   ]
  },
  {
   "cell_type": "code",
   "execution_count": 24,
   "metadata": {},
   "outputs": [],
   "source": [
    "x_train, y_train = train\n",
    "x_test, y_test = test\n",
    "\n",
    "# Preproc the inputs\n",
    "x_train = preproc_x(x_train)\n",
    "x_test = preproc_x(x_test)\n",
    "\n",
    "# Preprc the outputs\n",
    "y_train = preproc_y(y_train)\n",
    "y_test = preproc_y(y_test)"
   ]
  },
  {
   "cell_type": "code",
   "execution_count": 25,
   "metadata": {},
   "outputs": [],
   "source": [
    "from keras.layers import BatchNormalization\n",
    "\n",
    "def build_mlp(input_shape, output_units=10, num_neurons=[512, 256, 128]):\n",
    "    \"\"\"Code Here\n",
    "    建立你的神經網路\n",
    "    \"\"\"\n",
    "    input_layer = keras.layers.Input(input_shape)\n",
    "    \n",
    "    for i, n_units in enumerate(num_neurons):\n",
    "        if i == 0:\n",
    "            x = keras.layers.Dense(units=n_units, \n",
    "                                   activation=\"relu\", \n",
    "                                   name=\"hidden_layer\"+str(i+1))(input_layer)\n",
    "            x = BatchNormalization()(x)\n",
    "        else:\n",
    "            x = keras.layers.Dense(units=n_units, \n",
    "                                   activation=\"relu\", \n",
    "                                   name=\"hidden_layer\"+str(i+1))(x)\n",
    "            x = BatchNormalization()(x)\n",
    "    \n",
    "    out = keras.layers.Dense(units=output_units, activation=\"softmax\", name=\"output\")(x)\n",
    "    \n",
    "    model = keras.models.Model(inputs=[input_layer], outputs=[out])\n",
    "    return model"
   ]
  },
  {
   "cell_type": "code",
   "execution_count": 40,
   "metadata": {},
   "outputs": [],
   "source": [
    "\"\"\"Code Here\n",
    "設定超參數\n",
    "\"\"\"\n",
    "LEARNING_RATE = 1e-3\n",
    "EPOCHS = 50\n",
    "BATCH_SIZE = 1024\n",
    "MOMENTUM = 0.95"
   ]
  },
  {
   "cell_type": "code",
   "execution_count": 41,
   "metadata": {},
   "outputs": [
    {
     "name": "stdout",
     "output_type": "stream",
     "text": [
      "_________________________________________________________________\n",
      "Layer (type)                 Output Shape              Param #   \n",
      "=================================================================\n",
      "input_8 (InputLayer)         (None, 3072)              0         \n",
      "_________________________________________________________________\n",
      "hidden_layer1 (Dense)        (None, 512)               1573376   \n",
      "_________________________________________________________________\n",
      "batch_normalization_22 (Batc (None, 512)               2048      \n",
      "_________________________________________________________________\n",
      "hidden_layer2 (Dense)        (None, 256)               131328    \n",
      "_________________________________________________________________\n",
      "batch_normalization_23 (Batc (None, 256)               1024      \n",
      "_________________________________________________________________\n",
      "hidden_layer3 (Dense)        (None, 128)               32896     \n",
      "_________________________________________________________________\n",
      "batch_normalization_24 (Batc (None, 128)               512       \n",
      "_________________________________________________________________\n",
      "output (Dense)               (None, 10)                1290      \n",
      "=================================================================\n",
      "Total params: 1,742,474\n",
      "Trainable params: 1,740,682\n",
      "Non-trainable params: 1,792\n",
      "_________________________________________________________________\n",
      "Train on 50000 samples, validate on 10000 samples\n",
      "Epoch 1/50\n",
      "50000/50000 [==============================] - 10s 196us/step - loss: 2.1943 - acc: 0.2750 - val_loss: 2.0355 - val_acc: 0.3349\n",
      "Epoch 2/50\n",
      "50000/50000 [==============================] - 9s 178us/step - loss: 1.7451 - acc: 0.3931 - val_loss: 1.8218 - val_acc: 0.3766\n",
      "Epoch 3/50\n",
      "50000/50000 [==============================] - 9s 179us/step - loss: 1.6197 - acc: 0.4320 - val_loss: 1.7088 - val_acc: 0.4081\n",
      "Epoch 4/50\n",
      "50000/50000 [==============================] - 9s 175us/step - loss: 1.5468 - acc: 0.4576 - val_loss: 1.6457 - val_acc: 0.4190\n",
      "Epoch 5/50\n",
      "50000/50000 [==============================] - 9s 181us/step - loss: 1.4917 - acc: 0.4779 - val_loss: 1.5986 - val_acc: 0.4433\n",
      "Epoch 6/50\n",
      "50000/50000 [==============================] - 10s 203us/step - loss: 1.4475 - acc: 0.4931 - val_loss: 1.5674 - val_acc: 0.4495\n",
      "Epoch 7/50\n",
      "50000/50000 [==============================] - 8s 152us/step - loss: 1.4067 - acc: 0.5074 - val_loss: 1.5406 - val_acc: 0.4585\n",
      "Epoch 8/50\n",
      "50000/50000 [==============================] - 8s 155us/step - loss: 1.3703 - acc: 0.5228 - val_loss: 1.5242 - val_acc: 0.4636\n",
      "Epoch 9/50\n",
      "50000/50000 [==============================] - 8s 152us/step - loss: 1.3391 - acc: 0.5337 - val_loss: 1.5192 - val_acc: 0.4633\n",
      "Epoch 10/50\n",
      "50000/50000 [==============================] - 8s 162us/step - loss: 1.3075 - acc: 0.5443 - val_loss: 1.5017 - val_acc: 0.4755\n",
      "Epoch 11/50\n",
      "50000/50000 [==============================] - 8s 161us/step - loss: 1.2804 - acc: 0.5530 - val_loss: 1.5034 - val_acc: 0.4768\n",
      "Epoch 12/50\n",
      "50000/50000 [==============================] - 7s 149us/step - loss: 1.2516 - acc: 0.5647 - val_loss: 1.4919 - val_acc: 0.4709\n",
      "Epoch 13/50\n",
      "50000/50000 [==============================] - 7s 149us/step - loss: 1.2262 - acc: 0.5743 - val_loss: 1.4797 - val_acc: 0.4834\n",
      "Epoch 14/50\n",
      "50000/50000 [==============================] - 7s 148us/step - loss: 1.2012 - acc: 0.5834 - val_loss: 1.4613 - val_acc: 0.4914\n",
      "Epoch 15/50\n",
      "50000/50000 [==============================] - 7s 149us/step - loss: 1.1752 - acc: 0.5945 - val_loss: 1.4780 - val_acc: 0.4794\n",
      "Epoch 16/50\n",
      "50000/50000 [==============================] - 8s 163us/step - loss: 1.1524 - acc: 0.6042 - val_loss: 1.4540 - val_acc: 0.4895\n",
      "Epoch 17/50\n",
      "50000/50000 [==============================] - 8s 155us/step - loss: 1.1281 - acc: 0.6122 - val_loss: 1.4645 - val_acc: 0.4820\n",
      "Epoch 18/50\n",
      "50000/50000 [==============================] - 8s 168us/step - loss: 1.1063 - acc: 0.6183 - val_loss: 1.4589 - val_acc: 0.4933\n",
      "Epoch 19/50\n",
      "50000/50000 [==============================] - 9s 183us/step - loss: 1.0829 - acc: 0.6283 - val_loss: 1.4535 - val_acc: 0.4912\n",
      "Epoch 20/50\n",
      "50000/50000 [==============================] - 9s 183us/step - loss: 1.0627 - acc: 0.6350 - val_loss: 1.4532 - val_acc: 0.4917\n",
      "Epoch 21/50\n",
      "50000/50000 [==============================] - 10s 203us/step - loss: 1.0416 - acc: 0.6427 - val_loss: 1.4458 - val_acc: 0.4950\n",
      "Epoch 22/50\n",
      "50000/50000 [==============================] - 9s 171us/step - loss: 1.0162 - acc: 0.6552 - val_loss: 1.4551 - val_acc: 0.4964\n",
      "Epoch 23/50\n",
      "50000/50000 [==============================] - 9s 178us/step - loss: 0.9968 - acc: 0.6619 - val_loss: 1.4614 - val_acc: 0.4919\n",
      "Epoch 24/50\n",
      "50000/50000 [==============================] - 8s 157us/step - loss: 0.9769 - acc: 0.6687 - val_loss: 1.4551 - val_acc: 0.4978\n",
      "Epoch 25/50\n",
      "50000/50000 [==============================] - 8s 165us/step - loss: 0.9549 - acc: 0.6786 - val_loss: 1.4584 - val_acc: 0.4934\n",
      "Epoch 26/50\n",
      "50000/50000 [==============================] - 8s 150us/step - loss: 0.9336 - acc: 0.6865 - val_loss: 1.4657 - val_acc: 0.4904\n",
      "Epoch 27/50\n",
      "50000/50000 [==============================] - 8s 151us/step - loss: 0.9161 - acc: 0.6945 - val_loss: 1.4706 - val_acc: 0.4979\n",
      "Epoch 28/50\n",
      "50000/50000 [==============================] - 7s 149us/step - loss: 0.8940 - acc: 0.7028 - val_loss: 1.4772 - val_acc: 0.4959\n",
      "Epoch 29/50\n",
      "50000/50000 [==============================] - 7s 148us/step - loss: 0.8740 - acc: 0.7085 - val_loss: 1.4734 - val_acc: 0.4956\n",
      "Epoch 30/50\n",
      "50000/50000 [==============================] - 9s 170us/step - loss: 0.8552 - acc: 0.7173 - val_loss: 1.4993 - val_acc: 0.4890\n",
      "Epoch 31/50\n",
      "50000/50000 [==============================] - 8s 160us/step - loss: 0.8353 - acc: 0.7235 - val_loss: 1.4887 - val_acc: 0.4978\n",
      "Epoch 32/50\n",
      "50000/50000 [==============================] - 7s 142us/step - loss: 0.8174 - acc: 0.7315 - val_loss: 1.4935 - val_acc: 0.4945\n",
      "Epoch 33/50\n",
      "50000/50000 [==============================] - 7s 143us/step - loss: 0.7966 - acc: 0.7409 - val_loss: 1.4962 - val_acc: 0.4932\n",
      "Epoch 34/50\n",
      "50000/50000 [==============================] - 7s 142us/step - loss: 0.7755 - acc: 0.7487 - val_loss: 1.5078 - val_acc: 0.4974\n",
      "Epoch 35/50\n",
      "50000/50000 [==============================] - 8s 150us/step - loss: 0.7566 - acc: 0.7553 - val_loss: 1.5206 - val_acc: 0.4937\n",
      "Epoch 36/50\n",
      "50000/50000 [==============================] - 10s 190us/step - loss: 0.7404 - acc: 0.7635 - val_loss: 1.5217 - val_acc: 0.4980\n",
      "Epoch 37/50\n",
      "50000/50000 [==============================] - 7s 144us/step - loss: 0.7211 - acc: 0.7705 - val_loss: 1.5276 - val_acc: 0.4952\n",
      "Epoch 38/50\n",
      "50000/50000 [==============================] - 8s 153us/step - loss: 0.7010 - acc: 0.7789 - val_loss: 1.5602 - val_acc: 0.4969\n",
      "Epoch 39/50\n",
      "50000/50000 [==============================] - 7s 144us/step - loss: 0.6829 - acc: 0.7872 - val_loss: 1.5371 - val_acc: 0.4970\n",
      "Epoch 40/50\n",
      "50000/50000 [==============================] - 9s 173us/step - loss: 0.6641 - acc: 0.7944 - val_loss: 1.5639 - val_acc: 0.4959\n",
      "Epoch 41/50\n",
      "50000/50000 [==============================] - 9s 173us/step - loss: 0.6476 - acc: 0.8008 - val_loss: 1.5613 - val_acc: 0.4951\n",
      "Epoch 42/50\n",
      "50000/50000 [==============================] - 9s 187us/step - loss: 0.6292 - acc: 0.8073 - val_loss: 1.5818 - val_acc: 0.4957\n",
      "Epoch 43/50\n",
      "50000/50000 [==============================] - 8s 162us/step - loss: 0.6118 - acc: 0.8129 - val_loss: 1.5967 - val_acc: 0.4922\n",
      "Epoch 44/50\n",
      "50000/50000 [==============================] - 8s 155us/step - loss: 0.5934 - acc: 0.8221 - val_loss: 1.5973 - val_acc: 0.4933\n",
      "Epoch 45/50\n",
      "50000/50000 [==============================] - 8s 159us/step - loss: 0.5766 - acc: 0.8292 - val_loss: 1.6187 - val_acc: 0.4904\n",
      "Epoch 46/50\n",
      "50000/50000 [==============================] - 7s 149us/step - loss: 0.5617 - acc: 0.8350 - val_loss: 1.6531 - val_acc: 0.4889\n",
      "Epoch 47/50\n",
      "50000/50000 [==============================] - 7s 147us/step - loss: 0.5425 - acc: 0.8421 - val_loss: 1.6410 - val_acc: 0.4926\n",
      "Epoch 48/50\n",
      "50000/50000 [==============================] - 8s 153us/step - loss: 0.5247 - acc: 0.8497 - val_loss: 1.6437 - val_acc: 0.4937\n",
      "Epoch 49/50\n"
     ]
    },
    {
     "name": "stdout",
     "output_type": "stream",
     "text": [
      "50000/50000 [==============================] - 7s 145us/step - loss: 0.5082 - acc: 0.8560 - val_loss: 1.6522 - val_acc: 0.4966\n",
      "Epoch 50/50\n",
      "50000/50000 [==============================] - 8s 155us/step - loss: 0.4927 - acc: 0.8625 - val_loss: 1.6601 - val_acc: 0.4939\n",
      "10000/10000 [==============================] - 2s 167us/step\n"
     ]
    }
   ],
   "source": [
    "# 載入 Callbacks\n",
    "\"\"\"Code Here\n",
    "設定 callbacks: model checkpoint\n",
    "\"\"\"\n",
    "from keras.callbacks import ModelCheckpoint\n",
    "\n",
    "model_ckpt = ModelCheckpoint(filepath=\"./tmp.h5\", \n",
    "                             monitor=\"val_loss\", \n",
    "                             save_best_only=False,\n",
    "                            save_weights_only=True)\n",
    "\n",
    "results = {}\n",
    "\"\"\"Code Here\n",
    "撰寫你的訓練流程並將結果用 dictionary 紀錄\n",
    "\"\"\"\n",
    "model = build_mlp(input_shape=x_train.shape[1:])\n",
    "model.summary()\n",
    "optimizer = keras.optimizers.SGD(lr=LEARNING_RATE, nesterov=True, momentum=MOMENTUM)\n",
    "model.compile(loss=\"categorical_crossentropy\", metrics=[\"accuracy\"], optimizer=optimizer)\n",
    "\n",
    "model.fit(x_train, y_train, \n",
    "          epochs=EPOCHS, \n",
    "          batch_size=BATCH_SIZE, \n",
    "          validation_data=(x_test, y_test), \n",
    "          shuffle=True,\n",
    "          callbacks=[model_ckpt]\n",
    "         )\n",
    "\n",
    "model.save(\"final_model.h5\")\n",
    "\n",
    "# Collect results\n",
    "train_loss = model.history.history[\"loss\"]\n",
    "valid_loss = model.history.history[\"val_loss\"]\n",
    "train_acc = model.history.history[\"acc\"]\n",
    "valid_acc = model.history.history[\"val_acc\"]\n",
    "\n",
    "\n",
    "\n",
    "# Load back\n",
    "model = keras.models.load_model(\"./final_model.h5\")\n",
    "loss_loadback, acc_loadback = model.evaluate(x_test, y_test)"
   ]
  },
  {
   "cell_type": "code",
   "execution_count": 42,
   "metadata": {
    "scrolled": true
   },
   "outputs": [
    {
     "data": {
      "image/png": "[encoded data removed]",
      "text/plain": [
       "<Figure size 432x288 with 1 Axes>"
      ]
     },
     "metadata": {
      "needs_background": "light"
     },
     "output_type": "display_data"
    },
    {
     "data": {
      "image/png": "[encoded data removed]",
      "text/plain": [
       "<Figure size 432x288 with 1 Axes>"
      ]
     },
     "metadata": {
      "needs_background": "light"
     },
     "output_type": "display_data"
    }
   ],
   "source": [
    "import matplotlib.pyplot as plt\n",
    "%matplotlib inline\n",
    "\"\"\"Code Here\n",
    "將結果繪出\n",
    "\"\"\"\n",
    "plt.plot(range(len(train_loss)), train_loss, label=\"train loss\")\n",
    "plt.plot(range(len(valid_loss)), valid_loss, label=\"valid loss\")\n",
    "plt.hlines(y=loss_loadback, xmin=0, xmax=len(train_loss), colors='r', linestyles='--')\n",
    "plt.legend()\n",
    "plt.title(\"Loss\")\n",
    "plt.show()\n",
    "\n",
    "plt.plot(range(len(train_acc)), train_acc, label=\"train accuracy\")\n",
    "plt.plot(range(len(valid_acc)), valid_acc, label=\"valid accuracy\")\n",
    "plt.hlines(y=acc_loadback, xmin=0, xmax=len(train_loss), colors='r', linestyles='--')\n",
    "plt.legend()\n",
    "plt.title(\"Accuracy\")\n",
    "plt.show()"
   ]
  },
  {
   "cell_type": "code",
   "execution_count": null,
   "metadata": {},
   "outputs": [],
   "source": []
  }
 ],
 "metadata": {
  "kernelspec": {
   "display_name": "Python 3",
   "language": "python",
   "name": "python3"
  },
  "language_info": {
   "codemirror_mode": {
    "name": "ipython",
    "version": 3
   },
   "file_extension": ".py",
   "mimetype": "text/x-python",
   "name": "python",
   "nbconvert_exporter": "python",
   "pygments_lexer": "ipython3",
   "version": "3.7.3"
  }
 },
 "nbformat": 4,
 "nbformat_minor": 2
}
